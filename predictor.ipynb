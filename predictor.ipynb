{
 "cells": [
  {
   "cell_type": "markdown",
   "id": "828b9a2d-0461-454a-8848-8885964d6b62",
   "metadata": {},
   "source": [
    "## Import Libraries"
   ]
  },
  {
   "cell_type": "code",
   "execution_count": null,
   "id": "d0079f58-d976-40e1-91b6-3b60c4e3210b",
   "metadata": {},
   "outputs": [],
   "source": [
    "import yfinance as yf\n",
    "import pandas as pd\n",
    "import os\n",
    "from sklearn.ensemble import RandomForestClassifier\n",
    "from sklearn.metrics import precision_score\n",
    "import matplotlib.pyplot as plt\n",
    "import matplotlib.dates as mdates"
   ]
  },
  {
   "cell_type": "markdown",
   "id": "39ebd0d2-4996-4345-b729-761ee0164920",
   "metadata": {},
   "source": [
    "## Load and Clean S&P 500 Data"
   ]
  },
  {
   "cell_type": "code",
   "execution_count": null,
   "id": "f8661d78-e3da-43fc-b4c9-db9a21708e6f",
   "metadata": {},
   "outputs": [],
   "source": [
    "def load_sp500_data():\n",
    "    sp500 = yf.Ticker(\"^GSPC\").history(period=\"max\")\n",
    "    sp500.drop(columns=[\"Dividends\", \"Stock Splits\"], inplace=True)\n",
    "    return sp500"
   ]
  },
  {
   "cell_type": "markdown",
   "id": "11aa775e-dc87-467e-9e96-d8b6f277c68a",
   "metadata": {},
   "source": [
    "## Plot Closing Price Data"
   ]
  },
  {
   "cell_type": "code",
   "execution_count": null,
   "id": "389573c0-1959-41be-84a7-fee3f6325f77",
   "metadata": {},
   "outputs": [],
   "source": [
    "def plot_data(df, column, title, xlabel, ylabel, x_locator, x_formatter):\n",
    "    fig, ax = plt.subplots(figsize=(10, 6))\n",
    "    ax.plot(df.index, df[column])\n",
    "    ax.set_title(title)\n",
    "    ax.set_xlabel(xlabel)\n",
    "    ax.set_ylabel(ylabel)\n",
    "    ax.xaxis.set_major_locator(x_locator)\n",
    "    ax.xaxis.set_major_formatter(x_formatter)\n",
    "    fig.autofmt_xdate()\n",
    "    plt.show()"
   ]
  },
  {
   "cell_type": "markdown",
   "id": "985460ca-3b56-4b40-8c47-77956ece37c7",
   "metadata": {},
   "source": [
    "## Create Predictors"
   ]
  },
  {
   "cell_type": "code",
   "execution_count": null,
   "id": "259524b9-f3c4-47bf-9fca-d7de82915f70",
   "metadata": {},
   "outputs": [],
   "source": [
    "def create_predictors(df, horizons):\n",
    "    new_predictors = []\n",
    "    for horizon in horizons:\n",
    "        rolling_averages = df.rolling(horizon).mean()\n",
    "        df[f\"Close_Ratio_{horizon}\"] = df[\"Close\"] / rolling_averages[\"Close\"]\n",
    "        df[f\"Trend_{horizon}\"] = df[\"Target\"].rolling(horizon).sum().shift(1)\n",
    "        new_predictors += [f\"Close_Ratio_{horizon}\", f\"Trend_{horizon}\"]\n",
    "    return df.dropna(), new_predictors"
   ]
  },
  {
   "cell_type": "markdown",
   "id": "4c36165d-1950-49da-adb8-bb79140572b4",
   "metadata": {},
   "source": [
    "## Function to predict with a model"
   ]
  },
  {
   "cell_type": "code",
   "execution_count": null,
   "id": "86fac462-15b8-4a30-9393-7ca37d433fa9",
   "metadata": {},
   "outputs": [],
   "source": [
    "def predict(train, test, predictors, model):\n",
    "    model.fit(train[predictors], train[\"Target\"])\n",
    "    preds = model.predict_proba(test[predictors])[:, 1]\n",
    "    preds = (preds >= 0.6).astype(int)\n",
    "    return pd.concat([test[\"Target\"], pd.Series(preds, index=test.index, name=\"Predictions\")], axis=1)"
   ]
  },
  {
   "cell_type": "markdown",
   "id": "63ebfd47-964a-4691-9bb0-a168316a3561",
   "metadata": {},
   "source": [
    "## Function to backtest the model"
   ]
  },
  {
   "cell_type": "code",
   "execution_count": null,
   "id": "5fe4c5d0-4dc6-4c0d-86c2-f41dae142cf9",
   "metadata": {},
   "outputs": [],
   "source": [
    "def backtest(data, model, predictors, start=2500, step=250):\n",
    "    all_predictions = []\n",
    "    for i in range(start, data.shape[0], step):\n",
    "        train = data.iloc[0:i].copy()\n",
    "        test = data.iloc[i:i+step].copy()\n",
    "        predictions = predict(train, test, predictors, model)\n",
    "        all_predictions.append(predictions)\n",
    "    return pd.concat(all_predictions)"
   ]
  },
  {
   "cell_type": "markdown",
   "id": "8349fb8b-46f0-4282-b198-3c42f3a92654",
   "metadata": {},
   "source": [
    "## Main Execution"
   ]
  },
  {
   "cell_type": "code",
   "execution_count": null,
   "id": "526bc7b1-7f1d-4037-bc3b-0243d00c8eed",
   "metadata": {},
   "outputs": [],
   "source": [
    "sp500 = load_sp500_data()"
   ]
  },
  {
   "cell_type": "markdown",
   "id": "07e954e7-1b4f-45ef-9bf6-fa7690d0d001",
   "metadata": {},
   "source": [
    "## Plot Closing Price"
   ]
  },
  {
   "cell_type": "code",
   "execution_count": null,
   "id": "f6f203ec-3ae6-4878-9b28-8b6695d27e07",
   "metadata": {},
   "outputs": [],
   "source": [
    "plot_data(sp500, \"Close\", \"S&P 500 Closing Price\", \"Date\", \"Closing Price\", mdates.YearLocator(5), mdates.DateFormatter('%Y'))"
   ]
  },
  {
   "cell_type": "code",
   "execution_count": null,
   "id": "488b1657-6562-40fc-b6e3-f75e99cfe7a8",
   "metadata": {},
   "outputs": [],
   "source": [
    "sp500 = sp500.loc[\"1990-01-01\":].copy()"
   ]
  },
  {
   "cell_type": "markdown",
   "id": "9d02d61f-5d93-4339-8398-c6f4ebc62a77",
   "metadata": {},
   "source": [
    "## Create Target Column and Restrict Time Range"
   ]
  },
  {
   "cell_type": "code",
   "execution_count": null,
   "id": "c2c17bc5-4621-498f-bbdb-a6f41b1c1dd5",
   "metadata": {},
   "outputs": [],
   "source": [
    "sp500[\"Tomorrow\"] = sp500[\"Close\"].shift(-1)\n",
    "sp500[\"Target\"] = (sp500[\"Tomorrow\"] > sp500[\"Close\"]).astype(int)\n",
    "sp500 = sp500.loc[\"1990-01-01\":].copy()"
   ]
  },
  {
   "cell_type": "code",
   "execution_count": null,
   "id": "eda5ff25-68a3-4109-a246-d4b5fcf03cc4",
   "metadata": {},
   "outputs": [],
   "source": [
    "sp500"
   ]
  },
  {
   "cell_type": "code",
   "execution_count": null,
   "id": "41870b5b-f4c9-42fa-a6f7-d0f9e668b7fd",
   "metadata": {},
   "outputs": [],
   "source": [
    "model = RandomForestClassifier(n_estimators = 100, min_samples_split = 100, random_state = 1)\n",
    "train = sp500.iloc[:-100]\n",
    "test = sp500.iloc[-100:]\n",
    "predictors = [\"Close\", \"Volume\", \"High\", \"Low\"]\n",
    "model.fit(train[predictors], train[\"Target\"])"
   ]
  },
  {
   "cell_type": "markdown",
   "id": "d2b1dc28-5435-498f-9500-29a12bf35dbe",
   "metadata": {},
   "source": [
    "## Add rolling averages and trends as new predictors"
   ]
  },
  {
   "cell_type": "code",
   "execution_count": null,
   "id": "ccbd759f-2be2-45a2-a073-aab46a01ddb2",
   "metadata": {},
   "outputs": [],
   "source": [
    "horizons = [2, 5, 60, 250, 1000]\n",
    "sp500, new_predictors = create_predictors(sp500, horizons)"
   ]
  },
  {
   "cell_type": "markdown",
   "id": "7aed9a10-fd1b-48b2-a0cd-fe8e07baa0c4",
   "metadata": {},
   "source": [
    "## Update model with more trees and less restrictive splitting"
   ]
  },
  {
   "cell_type": "code",
   "execution_count": null,
   "id": "6f945780-c47d-4b91-b442-8d1682ffc6d6",
   "metadata": {},
   "outputs": [],
   "source": [
    "model = RandomForestClassifier(n_estimators=200, min_samples_split=50, random_state=1)"
   ]
  },
  {
   "cell_type": "markdown",
   "id": "5e6ca09a-0b7b-458f-ae6a-0ba002627191",
   "metadata": {},
   "source": [
    "## Backtest with new predictors"
   ]
  },
  {
   "cell_type": "code",
   "execution_count": null,
   "id": "7be139e5-ddf8-4147-a1d4-35ff21b76d68",
   "metadata": {},
   "outputs": [],
   "source": [
    "predictions = backtest(sp500, model, new_predictors)"
   ]
  },
  {
   "cell_type": "markdown",
   "id": "3896dfbe-1606-4140-a86d-54d2982d99f3",
   "metadata": {},
   "source": [
    "## Evaluate results"
   ]
  },
  {
   "cell_type": "code",
   "execution_count": null,
   "id": "ebf3de04-e89a-40a9-928c-6ee9233ded4f",
   "metadata": {},
   "outputs": [],
   "source": [
    "prediction_counts = predictions[\"Predictions\"].value_counts()\n",
    "precision = precision_score(predictions[\"Target\"], predictions[\"Predictions\"])\n",
    "target_distribution = predictions[\"Target\"].value_counts() / predictions.shape[0]\n",
    "\n",
    "print(f\"Prediction counts:\\n{prediction_counts}\\n\")\n",
    "print(f\"Precision score: {precision:.4f}\")\n",
    "print(f\"Target distribution:\\n{target_distribution}\\n\")"
   ]
  },
  {
   "cell_type": "markdown",
   "id": "69379c2a-2715-4fa4-a62a-29b3b7bb4cd7",
   "metadata": {},
   "source": [
    "## Plot predictions vs actual"
   ]
  },
  {
   "cell_type": "code",
   "execution_count": null,
   "id": "e5d8f340-46f7-4a00-ae45-636aa11a7a90",
   "metadata": {},
   "outputs": [],
   "source": [
    "def plot_predictions_vs_actual(predictions):\n",
    "    fig, ax = plt.subplots(figsize=(10, 6))\n",
    "    predictions.plot(ax=ax)\n",
    "    ax.set_title(\"Predictions vs Actual\")\n",
    "    ax.set_xlabel(\"Date\")\n",
    "    ax.set_ylabel(\"Target / Predictions\")\n",
    "    ax.xaxis.set_major_locator(mdates.MonthLocator(interval=10))\n",
    "    ax.xaxis.set_major_formatter(mdates.DateFormatter('%Y-%m'))\n",
    "    fig.autofmt_xdate()\n",
    "    plt.show()\n",
    "\n",
    "plot_predictions_vs_actual(predictions)"
   ]
  },
  {
   "cell_type": "code",
   "execution_count": null,
   "id": "45fadd5f-50c0-4a38-a298-8a71bca5d8e0",
   "metadata": {},
   "outputs": [],
   "source": [
    "# other exchanges open overnight, other indices besides sp500 open. look at prices, see\n",
    "# if they can be correlated, to help predict sp500. add news (e.g. articles about\n",
    "# general macroeconomic conditions like IR,inflation). add in key components like key \n",
    "# stocks and key sectors (e.g. if tech goes down, later sp500 may go down). increase\n",
    "# resolution, like hourly data, min by min data, tick data. maybe check sentiment analysis"
   ]
  }
 ],
 "metadata": {
  "kernelspec": {
   "display_name": "Python 3 (ipykernel)",
   "language": "python",
   "name": "python3"
  },
  "language_info": {
   "codemirror_mode": {
    "name": "ipython",
    "version": 3
   },
   "file_extension": ".py",
   "mimetype": "text/x-python",
   "name": "python",
   "nbconvert_exporter": "python",
   "pygments_lexer": "ipython3",
   "version": "3.11.5"
  }
 },
 "nbformat": 4,
 "nbformat_minor": 5
}
